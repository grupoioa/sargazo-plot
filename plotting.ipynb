{
 "cells": [
  {
   "cell_type": "markdown",
   "metadata": {},
   "source": [
    "# Guia de graficación de salidas WRF"
   ]
  },
  {
   "cell_type": "markdown",
   "metadata": {
    "slideshow": {
     "slide_type": "subslide"
    }
   },
   "source": [
    "## Requirimientos\n",
    "\n",
    "* numpy:  conda install -c anaconda numpy \n",
    "* netCDF4: conda install -c anaconda netcdf4 \n",
    "* cartopy: conda install -c conda-forge cartopy \n",
    "* matplotlib: conda install -c conda-forge matplotlib \n",
    "* scipy:  conda install -c anaconda scipy "
   ]
  },
  {
   "cell_type": "markdown",
   "metadata": {
    "slideshow": {
     "slide_type": "slide"
    }
   },
   "source": [
    "\n",
    "\n",
    "# Post-procesamiento de salidas WRF\n",
    "\n",
    "### I. Lectura de archivos y procesamiento de datos\n",
    "### II. Graficación\n",
    "* Graficación usando pyplot y cartopy\n",
    "* Otras posibilidades:\n",
    "  - Graficación de mallas no estructuradas\n",
    "  - Generación de contenido web"
   ]
  },
  {
   "cell_type": "markdown",
   "metadata": {
    "slideshow": {
     "slide_type": "slide"
    }
   },
   "source": [
    "## I. Lectura de archivos NetCDF y procesamiento de datos en python"
   ]
  },
  {
   "cell_type": "markdown",
   "metadata": {
    "slideshow": {
     "slide_type": "subslide"
    }
   },
   "source": [
    "### Lectura de datos (NetCDF genérico)"
   ]
  },
  {
   "cell_type": "code",
   "execution_count": 8,
   "metadata": {
    "slideshow": {
     "slide_type": "fragment"
    }
   },
   "outputs": [
    {
     "name": "stdout",
     "output_type": "stream",
     "text": [
      "[[25.95143   25.950289  25.9487    ... 27.575968  27.526814  27.476727 ]\n",
      " [25.95092   25.96205   25.959808  ... 27.503893  27.531649  27.4776   ]\n",
      " [25.949978  25.961044  25.95581   ... 27.439697  27.481775  27.447577 ]\n",
      " ...\n",
      " [14.1377945 14.10822   14.0870075 ... 14.781396  14.84724   15.059344 ]\n",
      " [14.100042  14.071801  14.053479  ... 14.74602   14.783372  14.972626 ]\n",
      " [14.064387  14.044859  14.026752  ... 14.829721  14.858014  14.884087 ]]\n"
     ]
    }
   ],
   "source": [
    "from netCDF4 import Dataset\n",
    "import numpy as np\n",
    "\n",
    "filename='prom_v4.nc'\n",
    "#file opening\n",
    "with Dataset(filename,'r') as root:\n",
    "    T2=np.array(root['T2_avg_per_m'][:])\n",
    "print(T2[0])"
   ]
  },
  {
   "cell_type": "markdown",
   "metadata": {
    "slideshow": {
     "slide_type": "subslide"
    }
   },
   "source": [
    "### Lectura de datos y procesamiento"
   ]
  },
  {
   "cell_type": "code",
   "execution_count": 9,
   "metadata": {
    "slideshow": {
     "slide_type": "fragment"
    }
   },
   "outputs": [
    {
     "name": "stdout",
     "output_type": "stream",
     "text": [
      "[[299.1014  299.10028 299.0987  ... 300.72595 300.67682 300.6267 ]\n",
      " [299.10092 299.11203 299.1098  ... 300.6539  300.68164 300.6276 ]\n",
      " [299.09998 299.11102 299.1058  ... 300.5897  300.63177 300.59756]\n",
      " ...\n",
      " [287.28778 287.2582  287.237   ... 287.9314  287.99722 288.20935]\n",
      " [287.25003 287.2218  287.20346 ... 287.89603 287.93338 288.12262]\n",
      " [287.2144  287.19485 287.17676 ... 287.9797  288.008   288.0341 ]]\n"
     ]
    }
   ],
   "source": [
    "from netCDF4 import Dataset\n",
    "import numpy as np\n",
    "\n",
    "filename='prom_v4.nc'\n",
    "#file opening\n",
    "with Dataset(filename,'r') as root:\n",
    "    T2=np.array(root['T2_avg_per_m'][:])\n",
    "    T2+=273.15\n",
    "print(T2[0])"
   ]
  },
  {
   "cell_type": "markdown",
   "metadata": {
    "slideshow": {
     "slide_type": "slide"
    }
   },
   "source": [
    "## Graficación con pyplot  y cartopy (matplotlib)"
   ]
  },
  {
   "cell_type": "markdown",
   "metadata": {
    "slideshow": {
     "slide_type": "slide"
    }
   },
   "source": [
    "## Graficación usando cartopy (features)\n",
    "* Se pueden usar archivos tipo shape\n",
    "* Se pueden agregar automáticamente de (descarga, descompresión, carga):\n",
    "  - https://www.naturalearthdata.com/features/\n",
    "  - https://www.ngdc.noaa.gov/mgg/shorelines/gshhs.html\n"
   ]
  },
  {
   "cell_type": "markdown",
   "metadata": {
    "slideshow": {
     "slide_type": "slide"
    }
   },
   "source": [
    "## Graficación de vectores\n",
    "\n",
    "### Barbas\n",
    "\n"
   ]
  },
  {
   "cell_type": "markdown",
   "metadata": {},
   "source": [
    "## Graficación de vectores en mallas no estructuradas\n",
    "\n",
    "### Streamplot\n",
    "\n"
   ]
  },
  {
   "cell_type": "markdown",
   "metadata": {
    "slideshow": {
     "slide_type": "slide"
    }
   },
   "source": [
    "## Graficación de vectores en mallas no estructuradas\n",
    "* remallado\n"
   ]
  },
  {
   "cell_type": "markdown",
   "metadata": {
    "slideshow": {
     "slide_type": "subslide"
    }
   },
   "source": [
    "<br><img src=img/quiver.png width=\"95%\" align=\"center\" ><br>"
   ]
  },
  {
   "cell_type": "markdown",
   "metadata": {
    "slideshow": {
     "slide_type": "slide"
    }
   },
   "source": [
    "## Graficación ejemplo:\n",
    "* Imagen bitmap (png)\n",
    "* Malla no estructurada\n",
    "* Información de archivos .mat\n",
    "* Texto, dibujos (rectángulo)\n"
   ]
  },
  {
   "cell_type": "markdown",
   "metadata": {
    "slideshow": {
     "slide_type": "slide"
    }
   },
   "source": [
    "## Generación de contenido web\n",
    "\n",
    "* Folium permite visualizar datos con leaflet\n",
    "\n"
   ]
  },
  {
   "cell_type": "markdown",
   "metadata": {
    "slideshow": {
     "slide_type": "slide"
    }
   },
   "source": [
    "## Leaflet\n",
    "\n",
    "<br><img src=img/leaflet.png width=\"95%\" align=\"center\" ><br>"
   ]
  },
  {
   "cell_type": "markdown",
   "metadata": {
    "slideshow": {
     "slide_type": "slide"
    }
   },
   "source": [
    "## leaflet\n",
    "* permite plugins (existem muchos)\n",
    "\n",
    "https://mappinggis.com/2017/10/10-cosas-quiza-no-sabias-leaflet/"
   ]
  }
 ],
 "metadata": {
  "celltoolbar": "Raw Cell Format",
  "kernelspec": {
   "display_name": "Python 3",
   "language": "python",
   "name": "python3"
  },
  "language_info": {
   "codemirror_mode": {
    "name": "ipython",
    "version": 3
   },
   "file_extension": ".py",
   "mimetype": "text/x-python",
   "name": "python",
   "nbconvert_exporter": "python",
   "pygments_lexer": "ipython3",
   "version": "3.7.3"
  }
 },
 "nbformat": 4,
 "nbformat_minor": 2
}
