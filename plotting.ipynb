{
 "cells": [
  {
   "cell_type": "markdown",
   "metadata": {},
   "source": [
    "# Guia de graficación de salidas WRF\n",
    "\n",
    "La presente es una guia de apoyo a la graficación de salidas WRF."
   ]
  },
  {
   "cell_type": "markdown",
   "metadata": {
    "slideshow": {
     "slide_type": "subslide"
    }
   },
   "source": [
    "Dependiendo de las necesidades se pueden requerir algunas de las siguientes bibliotecas.\n",
    "## Requirimientos\n",
    "\n",
    "* netCDF4. Uso: manejo de archivos NetCDF. Instalación: conda install -c anaconda netcdf4 \n",
    "* numpy. Uso: procesamiento de arreglos de datos. Instalación: conda install -c anaconda numpy \n",
    "* scipy. Uso: procesamiento adicional a numpy, en este caso extracción de datos en archivos .mat. Instalación: conda install -c anaconda scipy \n",
    "* matplotlib. Uso: graficación de datos similar a matlab. Instalación: conda install -c conda-forge matplotlib \n",
    "* cartopy. Uso: agrega funcionalidades a la graficación de matplotlib. Instalación: conda install -c conda-forge cartopy "
   ]
  },
  {
   "cell_type": "markdown",
   "metadata": {
    "slideshow": {
     "slide_type": "slide"
    }
   },
   "source": [
    "\n",
    "\n",
    "# Post-procesamiento de salidas WRF\n",
    "\n",
    "### I. Lectura de archivos y procesamiento de datos\n",
    "### II. Graficación\n",
    "* Graficación usando pyplot y cartopy\n",
    "* Otras posibilidades:\n",
    "  - Graficación de mallas no estructuradas\n",
    "  - Generación de contenido web"
   ]
  },
  {
   "cell_type": "markdown",
   "metadata": {
    "slideshow": {
     "slide_type": "slide"
    }
   },
   "source": [
    "## I. Lectura de archivos NetCDF y procesamiento de datos en Python\n",
    "A continuación se muestra el codigo necesario para extraer datos de archivos netCDF.\n",
    "Aplica para archivos netCDF en general, no únicamente las salidas del WRF.\n",
    "\n",
    "Hay que recordar que los archivos netCDF manejan datos en arreglos, por lo que es necesario importar las bibliotecas netCDF4 y numpy.\n",
    "\n",
    "La biblioteca netCDF4 nos permite extraer los datos contenidos en el archivo.\n",
    "Mientras que, la biblioteca numpy nos permitirá hacer operaciones optimizadas con los arreglos."
   ]
  },
  {
   "cell_type": "markdown",
   "metadata": {
    "slideshow": {
     "slide_type": "subslide"
    }
   },
   "source": [
    "### Lectura de datos (NetCDF genérico)\n",
    "\n",
    "En el siguiente script se utiliza la función *Dataset* para abrir el archivo de nombre *filename* y se hace referencia a él por medio de la variable (objeto) llamado *root*.\n",
    "\n",
    "Primero importamos las bibliotecas necesarias:"
   ]
  },
  {
   "cell_type": "code",
   "execution_count": 5,
   "metadata": {},
   "outputs": [],
   "source": [
    "from netCDF4 import Dataset\n",
    "import numpy as np\n"
   ]
  },
  {
   "cell_type": "markdown",
   "metadata": {},
   "source": [
    "Abrimos el archivo mediante la función *Dataset*"
   ]
  },
  {
   "cell_type": "code",
   "execution_count": 15,
   "metadata": {
    "slideshow": {
     "slide_type": "fragment"
    }
   },
   "outputs": [],
   "source": [
    "filename='wrfout_c1h_d01_1982-01-01_00:00:00.a1982'\n",
    "#file opening\n",
    "#with Dataset(filename,'r') as root:\n",
    "root=Dataset(filename, 'r')\n"
   ]
  },
  {
   "cell_type": "markdown",
   "metadata": {},
   "source": [
    "Se puede acceder a información del archivo, como el formato de NetCDF"
   ]
  },
  {
   "cell_type": "code",
   "execution_count": 28,
   "metadata": {},
   "outputs": [
    {
     "name": "stdout",
     "output_type": "stream",
     "text": [
      "Tipo de NetCDF: NETCDF3_64BIT_OFFSET\n"
     ]
    }
   ],
   "source": [
    "print('Tipo de NetCDF:',root.file_format)"
   ]
  },
  {
   "cell_type": "markdown",
   "metadata": {},
   "source": [
    "o las dimensiones"
   ]
  },
  {
   "cell_type": "code",
   "execution_count": 42,
   "metadata": {},
   "outputs": [
    {
     "name": "stdout",
     "output_type": "stream",
     "text": [
      "Dimensiones: OrderedDict([('Time', <class 'netCDF4._netCDF4.Dimension'> (unlimited): name = 'Time', size = 24\n",
      "), ('DateStrLen', <class 'netCDF4._netCDF4.Dimension'>: name = 'DateStrLen', size = 19\n",
      "), ('west_east', <class 'netCDF4._netCDF4.Dimension'>: name = 'west_east', size = 617\n",
      "), ('south_north', <class 'netCDF4._netCDF4.Dimension'>: name = 'south_north', size = 348\n",
      "), ('bottom_top', <class 'netCDF4._netCDF4.Dimension'>: name = 'bottom_top', size = 49\n",
      ")])\n"
     ]
    }
   ],
   "source": [
    "print('Dimensiones:', root.dimensions)"
   ]
  },
  {
   "cell_type": "markdown",
   "metadata": {},
   "source": [
    "las dimensiones de una manera más agradable"
   ]
  },
  {
   "cell_type": "code",
   "execution_count": 45,
   "metadata": {},
   "outputs": [
    {
     "name": "stdout",
     "output_type": "stream",
     "text": [
      "\t Time : 24\n",
      "\t DateStrLen : 19\n",
      "\t west_east : 617\n",
      "\t south_north : 348\n",
      "\t bottom_top : 49\n"
     ]
    }
   ],
   "source": [
    "for k in root.dimensions.keys():\n",
    "    dim=root.dimensions[k]\n",
    "    print('\\t',dim.name,':',dim.size)"
   ]
  },
  {
   "cell_type": "markdown",
   "metadata": {},
   "source": [
    "También podemos acceder a los nombres de las variables por medio del método variables.keys()"
   ]
  },
  {
   "cell_type": "code",
   "execution_count": 46,
   "metadata": {},
   "outputs": [
    {
     "name": "stdout",
     "output_type": "stream",
     "text": [
      "odict_keys(['Times', 'P', 'Q2', 'T2', 'PSFC', 'U10', 'V10', 'XTIME', 'TSK', 'RAINC', 'RAINNC', 'SWDOWN', 'GLW', 'OLR', 'ALBEDO', 'HFX', 'QFX', 'LH', 'SST', 'SST_INPUT'])\n"
     ]
    }
   ],
   "source": [
    "claves=root.variables.keys()\n",
    "print(claves)"
   ]
  },
  {
   "cell_type": "code",
   "execution_count": 51,
   "metadata": {},
   "outputs": [],
   "source": [
    "T2=root.variables['T2']"
   ]
  },
  {
   "cell_type": "markdown",
   "metadata": {},
   "source": [
    "Podemos acceder a la información de una variable mediante su índice"
   ]
  },
  {
   "cell_type": "code",
   "execution_count": 54,
   "metadata": {},
   "outputs": [
    {
     "name": "stdout",
     "output_type": "stream",
     "text": [
      "<class 'netCDF4._netCDF4.Variable'>\n",
      "float32 T2(Time, south_north, west_east)\n",
      "    FieldType: 104\n",
      "    MemoryOrder: XY \n",
      "    description: TEMP at 2 M\n",
      "    units: K\n",
      "    stagger: \n",
      "    coordinates: XLONG XLAT XTIME\n",
      "unlimited dimensions: Time\n",
      "current shape = (24, 348, 617)\n",
      "filling on, default _FillValue of 9.969209968386869e+36 used\n",
      "\n"
     ]
    }
   ],
   "source": [
    "print(T2)"
   ]
  },
  {
   "cell_type": "markdown",
   "metadata": {},
   "source": [
    "Y a cada uno de sus atributos"
   ]
  },
  {
   "cell_type": "code",
   "execution_count": 55,
   "metadata": {},
   "outputs": [
    {
     "name": "stdout",
     "output_type": "stream",
     "text": [
      "(24, 348, 617)\n",
      "K\n"
     ]
    }
   ],
   "source": [
    "print(T2.shape)\n",
    "\n",
    "print(T2.units)"
   ]
  },
  {
   "cell_type": "markdown",
   "metadata": {},
   "source": [
    "Y acceder a los valores mediante su clave"
   ]
  },
  {
   "cell_type": "code",
   "execution_count": 10,
   "metadata": {},
   "outputs": [
    {
     "name": "stdout",
     "output_type": "stream",
     "text": [
      "[[299.00464 299.04724 299.08463 ... 299.09442 298.79208 298.50214]\n",
      " [299.0188  299.06006 299.0965  ... 299.28604 298.98172 298.66794]\n",
      " [299.03735 299.0755  299.10944 ... 299.48395 299.2176  298.89346]\n",
      " ...\n",
      " [288.26672 288.26282 288.25858 ... 287.7303  287.71082 287.6936 ]\n",
      " [288.21255 288.2091  288.20514 ... 287.70905 287.69705 287.6739 ]\n",
      " [288.16013 288.15723 288.15363 ... 287.68466 287.67505 287.64557]]\n"
     ]
    }
   ],
   "source": [
    "T2=np.array(root['T2'][:])\n",
    "print(T2[0])\n",
    "root.close()"
   ]
  },
  {
   "cell_type": "markdown",
   "metadata": {
    "slideshow": {
     "slide_type": "subslide"
    }
   },
   "source": [
    "### Lectura de datos y procesamiento"
   ]
  },
  {
   "cell_type": "code",
   "execution_count": 9,
   "metadata": {
    "slideshow": {
     "slide_type": "fragment"
    }
   },
   "outputs": [
    {
     "name": "stdout",
     "output_type": "stream",
     "text": [
      "[[299.1014  299.10028 299.0987  ... 300.72595 300.67682 300.6267 ]\n",
      " [299.10092 299.11203 299.1098  ... 300.6539  300.68164 300.6276 ]\n",
      " [299.09998 299.11102 299.1058  ... 300.5897  300.63177 300.59756]\n",
      " ...\n",
      " [287.28778 287.2582  287.237   ... 287.9314  287.99722 288.20935]\n",
      " [287.25003 287.2218  287.20346 ... 287.89603 287.93338 288.12262]\n",
      " [287.2144  287.19485 287.17676 ... 287.9797  288.008   288.0341 ]]\n"
     ]
    }
   ],
   "source": [
    "from netCDF4 import Dataset\n",
    "import numpy as np\n",
    "\n",
    "filename='prom_v4.nc'\n",
    "#file opening\n",
    "with Dataset(filename,'r') as root:\n",
    "    T2=np.array(root['T2_avg_per_m'][:])\n",
    "    T2+=273.15\n",
    "print(T2[0])"
   ]
  },
  {
   "cell_type": "markdown",
   "metadata": {
    "slideshow": {
     "slide_type": "slide"
    }
   },
   "source": [
    "## Graficación con pyplot  y cartopy (matplotlib)"
   ]
  },
  {
   "cell_type": "markdown",
   "metadata": {
    "slideshow": {
     "slide_type": "slide"
    }
   },
   "source": [
    "## Graficación usando cartopy (features)\n",
    "* Se pueden usar archivos tipo shape\n",
    "* Se pueden agregar automáticamente de (descarga, descompresión, carga):\n",
    "  - https://www.naturalearthdata.com/features/\n",
    "  - https://www.ngdc.noaa.gov/mgg/shorelines/gshhs.html\n"
   ]
  },
  {
   "cell_type": "markdown",
   "metadata": {
    "slideshow": {
     "slide_type": "slide"
    }
   },
   "source": [
    "## Graficación de vectores\n",
    "\n",
    "### Barbas\n",
    "\n"
   ]
  },
  {
   "cell_type": "markdown",
   "metadata": {},
   "source": [
    "## Graficación de vectores en mallas no estructuradas\n",
    "\n",
    "### Streamplot\n",
    "\n"
   ]
  },
  {
   "cell_type": "markdown",
   "metadata": {
    "slideshow": {
     "slide_type": "slide"
    }
   },
   "source": [
    "## Graficación de vectores en mallas no estructuradas\n",
    "* remallado\n"
   ]
  },
  {
   "cell_type": "markdown",
   "metadata": {
    "slideshow": {
     "slide_type": "subslide"
    }
   },
   "source": [
    "<br><img src=img/quiver.png width=\"95%\" align=\"center\" ><br>"
   ]
  },
  {
   "cell_type": "markdown",
   "metadata": {
    "slideshow": {
     "slide_type": "slide"
    }
   },
   "source": [
    "## Graficación ejemplo:\n",
    "* Imagen bitmap (png)\n",
    "* Malla no estructurada\n",
    "* Información de archivos .mat\n",
    "* Texto, dibujos (rectángulo)\n"
   ]
  },
  {
   "cell_type": "markdown",
   "metadata": {
    "slideshow": {
     "slide_type": "slide"
    }
   },
   "source": [
    "## Generación de contenido web\n",
    "\n",
    "* Folium permite visualizar datos con leaflet\n",
    "\n"
   ]
  },
  {
   "cell_type": "markdown",
   "metadata": {
    "slideshow": {
     "slide_type": "slide"
    }
   },
   "source": [
    "## Leaflet\n",
    "\n",
    "<br><img src=img/leaflet.png width=\"95%\" align=\"center\" ><br>"
   ]
  },
  {
   "cell_type": "markdown",
   "metadata": {
    "slideshow": {
     "slide_type": "slide"
    }
   },
   "source": [
    "## leaflet\n",
    "* permite plugins (existem muchos)\n",
    "\n",
    "https://mappinggis.com/2017/10/10-cosas-quiza-no-sabias-leaflet/"
   ]
  }
 ],
 "metadata": {
  "celltoolbar": "Raw Cell Format",
  "kernelspec": {
   "display_name": "Python 3",
   "language": "python",
   "name": "python3"
  },
  "language_info": {
   "codemirror_mode": {
    "name": "ipython",
    "version": 3
   },
   "file_extension": ".py",
   "mimetype": "text/x-python",
   "name": "python",
   "nbconvert_exporter": "python",
   "pygments_lexer": "ipython3",
   "version": "3.7.1"
  }
 },
 "nbformat": 4,
 "nbformat_minor": 2
}
