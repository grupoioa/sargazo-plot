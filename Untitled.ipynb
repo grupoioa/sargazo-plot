{
 "cells": [
  {
   "cell_type": "markdown",
   "metadata": {
    "slideshow": {
     "slide_type": "slide"
    }
   },
   "source": [
    "<img src=logo_atmosfera.png width=\"20%\" align=\"right\" >\n",
    "<br>\n",
    "<br>\n",
    "<br>\n",
    "<h1>\n",
    "    <center>\n",
    "    Graficación de salidas WRF con Python\n",
    "    </center>\n",
    "</h1>\n",
    "<br>\n",
    "<br>\n",
    "<p>\n",
    "    <strong>Miguel Ángel Robles Roldán </strong><br>\n",
    "    Técnico Académico, Grupo Interacción Océano-Atmósfera, Centro de Ciencias de la Atmósfera <br>\n",
    "    <a href=\"mailto:miguel.robles@atmosfera.unam.mx\"> miguel.robles@atmosfera.unam.mx</a><br>\n",
    "    <a href=\"https://github.com/ma-robles\"> github:https://github.com/ma-robles</a><br>\n",
    "</p>\n",
    "    "
   ]
  },
  {
   "cell_type": "markdown",
   "metadata": {
    "slideshow": {
     "slide_type": "slide"
    }
   },
   "source": [
    "<img src=img/wrf_logo.jpg width=\"15%\" align=\"right\" ><br>\n",
    "\n",
    "## WRF (Weather Research and Forecasting)\n",
    "\n",
    "> WRF es un modelo de predicción numérica del tiempo diseñado para la investigación y para aplicaciones operativas ...\n",
    "<br>\n",
    "http://grupo-ioa.atmosfera.unam.mx/pronosticos/index.php/meteorologia/inf-wrf\n",
    "\n",
    "- Contribuyen diversas instituciones a su desarrollo (NCAR, NOAA, NCEP, ...)\n",
    "- Soporta cómputo en paralelo.\n",
    "- Permite diversas escalas.\n",
    "- ...\n",
    "- *Como salida del modelo se generan archivos de tipo NetCDF*"
   ]
  },
  {
   "cell_type": "markdown",
   "metadata": {
    "slideshow": {
     "slide_type": "slide"
    }
   },
   "source": [
    "<img src=img/netcdf_logo.png width=\"15%\" align=\"right\" ><br>\n",
    "\n",
    "<img src=img/xarray.png width=\"15%\" align=\"right\" ><br>\n",
    "\n",
    "## NetCDF (Network Common Data Form)\n",
    "\n",
    "*Es un conjunto de bibliotecas (en varios lenguajes) y formatos multiplataforma y autodescriptivos para crear, acceder y compartir datos de tipo arreglo.*\n",
    "\n",
    "### Formatos NetCDF\n",
    "* CDF-1 (Formato clásico) - Primer formato, por defecto en todas las bibliotecas.\n",
    "* CDF-2 (netCDF 64-bit offset) - permite archivos mayores a 2GB\n",
    "* netCDF-4 (HDF5 con restricciones) Es un formato de alto desempeño\n",
    "* CDF-5 (NetCDF 64-bit)- Permite variables más grandes.\n",
    "\n",
    "Se pueden extraer datos con la biblioteca netCDF4"
   ]
  },
  {
   "cell_type": "markdown",
   "metadata": {
    "slideshow": {
     "slide_type": "slide"
    }
   },
   "source": [
    "## Archivos de salida de WRF\n",
    "* Tienen diferencias con los netCDF convencionales https://www.ncl.ucar.edu/Applications/wrfnetcdf.shtml\n",
    "\n",
    "* Las variables posibles se encuentran en: http://www2.mmm.ucar.edu/wrf/users/docs/user_guide_V3/users_guide_chap5.htm#fields\n",
    "\n",
    "* Algunos ejemplos:\n",
    "\n",
    "> float Q2(Time, south_north, west_east) <br>\n",
    ">        Q2:description = \"QV at 2 M\" <br>\n",
    ">        Q2:units = \"kg kg-1\" <br>\n"
   ]
  },
  {
   "cell_type": "markdown",
   "metadata": {
    "slideshow": {
     "slide_type": "subslide"
    }
   },
   "source": [
    "\n",
    "> float T2(Time, south_north, west_east) <br>\n",
    ">        T2:description = \"TEMP at 2 M\" <br>\n",
    ">        T2:units = \"K\" <br>\n",
    "\n",
    "> float TH2(Time, south_north, west_east) <br>\n",
    ">        TH2:description = \"POT TEMP at 2 M\" <br>\n",
    ">        TH2:units = \"K\" <br>\n",
    "\n",
    "> float PSFC(Time, south_north, west_east) <br>\n",
    ">        PSFC:description = \"SFC PRESSURE\" <br>\n",
    ">        PSFC:units = \"Pa\" <br>\n",
    "\n",
    "> float U10(Time, south_north, west_east) <br>\n",
    ">        U10:description = \"U at 10 M\" <br>\n",
    ">        U10:units = \"m s-1\" <br>\n",
    "\n",
    "> float V10(Time, south_north, west_east) <br>\n",
    ">        V10:description = \"V at 10 M\" <br>\n",
    ">        V10:units = \"m s-1\" <br>"
   ]
  },
  {
   "cell_type": "markdown",
   "metadata": {
    "slideshow": {
     "slide_type": "slide"
    }
   },
   "source": [
    "## Post-procesamiento\n",
    "\n",
    "*Cálculo/manipulación posterior al realizado por el modelo (WRF)*\n",
    "\n",
    "* Máximos/mínimos\n",
    "* Acumulados/promedios\n",
    "* Recortes\n",
    "* Graficación"
   ]
  },
  {
   "cell_type": "markdown",
   "metadata": {
    "slideshow": {
     "slide_type": "slide"
    }
   },
   "source": [
    "## ¿Para qué post-procesar?\n",
    "\n",
    "* Verificación y análisis.\n",
    "* Divulgación.\n",
    "* Presentación de datos en informes, artículos, tesis..."
   ]
  },
  {
   "cell_type": "markdown",
   "metadata": {
    "slideshow": {
     "slide_type": "slide"
    }
   },
   "source": [
    "## Herramientas de post-procesamiento para salidas del WRF\n",
    "\n",
    "* Paquetes y bibliotecas diseñados para leer archivos NetCDF"
   ]
  },
  {
   "cell_type": "markdown",
   "metadata": {
    "slideshow": {
     "slide_type": "fragment"
    }
   },
   "source": [
    "\n",
    "<br><img src=img/wrf_ioa_scr.png width=\"95%\" align=\"center\" ><br>\n",
    "\n",
    "http://grupo-ioa.atmosfera.unam.mx/pronosticos/index.php/meteorologia/inf-wrf"
   ]
  },
  {
   "cell_type": "markdown",
   "metadata": {
    "slideshow": {
     "slide_type": "fragment"
    }
   },
   "source": [
    "* Matlab"
   ]
  },
  {
   "cell_type": "markdown",
   "metadata": {
    "slideshow": {
     "slide_type": "fragment"
    }
   },
   "source": [
    "* NCL"
   ]
  },
  {
   "cell_type": "markdown",
   "metadata": {
    "slideshow": {
     "slide_type": "fragment"
    }
   },
   "source": [
    "* Python :)!"
   ]
  },
  {
   "cell_type": "markdown",
   "metadata": {
    "slideshow": {
     "slide_type": "slide"
    }
   },
   "source": [
    "## Bibliotecas en Python\n",
    "\n",
    "* numpy\n",
    "* matplotlib\n",
    "* cartopy\n",
    "* datetime\n",
    "* scipy\n"
   ]
  },
  {
   "cell_type": "markdown",
   "metadata": {
    "slideshow": {
     "slide_type": "subslide"
    }
   },
   "source": [
    "## Instalación\n",
    "\n",
    "* numpy:  conda install -c anaconda numpy \n",
    "* netCDF4: conda install -c anaconda netcdf4 \n",
    "* cartopy: conda install -c conda-forge cartopy \n",
    "* matplotlib: conda install -c conda-forge matplotlib \n",
    "* scipy:  conda install -c anaconda scipy "
   ]
  },
  {
   "cell_type": "markdown",
   "metadata": {
    "slideshow": {
     "slide_type": "slide"
    }
   },
   "source": [
    "\n",
    "\n",
    "## Post-procesamiento de salidas WRF\n",
    "\n",
    "### Lectura de archivos y procesamiento de datos\n",
    "### Graficación\n",
    "* Graficación usando pyplot y cartopy\n",
    "* Otras posibilidades:\n",
    "  - Graficación de mallas no estructuradas\n",
    "  - Generación de contenido web"
   ]
  },
  {
   "cell_type": "markdown",
   "metadata": {
    "slideshow": {
     "slide_type": "slide"
    }
   },
   "source": [
    "## Lectura de archivos NetCDF y procesamiento de datos"
   ]
  },
  {
   "cell_type": "code",
   "execution_count": 1,
   "metadata": {
    "slideshow": {
     "slide_type": "slide"
    }
   },
   "outputs": [
    {
     "ename": "NameError",
     "evalue": "name 'filename' is not defined",
     "output_type": "error",
     "traceback": [
      "\u001b[0;31m---------------------------------------------------------------------------\u001b[0m",
      "\u001b[0;31mNameError\u001b[0m                                 Traceback (most recent call last)",
      "\u001b[0;32m<ipython-input-1-adbb435ea7a0>\u001b[0m in \u001b[0;36m<module>\u001b[0;34m\u001b[0m\n\u001b[1;32m      3\u001b[0m \u001b[0;34m\u001b[0m\u001b[0m\n\u001b[1;32m      4\u001b[0m \u001b[0;31m#file opening\u001b[0m\u001b[0;34m\u001b[0m\u001b[0;34m\u001b[0m\u001b[0;34m\u001b[0m\u001b[0m\n\u001b[0;32m----> 5\u001b[0;31m \u001b[0;32mwith\u001b[0m \u001b[0mDataset\u001b[0m\u001b[0;34m(\u001b[0m\u001b[0mfilename\u001b[0m\u001b[0;34m,\u001b[0m\u001b[0;34m'r'\u001b[0m\u001b[0;34m)\u001b[0m \u001b[0;32mas\u001b[0m \u001b[0mroot\u001b[0m\u001b[0;34m:\u001b[0m\u001b[0;34m\u001b[0m\u001b[0;34m\u001b[0m\u001b[0m\n\u001b[0m\u001b[1;32m      6\u001b[0m     \u001b[0mT2\u001b[0m\u001b[0;34m=\u001b[0m\u001b[0mnp\u001b[0m\u001b[0;34m.\u001b[0m\u001b[0marray\u001b[0m\u001b[0;34m(\u001b[0m\u001b[0mroot\u001b[0m\u001b[0;34m[\u001b[0m\u001b[0;34m'T2'\u001b[0m\u001b[0;34m]\u001b[0m\u001b[0;34m[\u001b[0m\u001b[0;34m:\u001b[0m\u001b[0;34m]\u001b[0m\u001b[0;34m)\u001b[0m\u001b[0;34m\u001b[0m\u001b[0;34m\u001b[0m\u001b[0m\n\u001b[1;32m      7\u001b[0m     \u001b[0mT2\u001b[0m\u001b[0;34m-=\u001b[0m\u001b[0;36m273.15\u001b[0m\u001b[0;34m\u001b[0m\u001b[0;34m\u001b[0m\u001b[0m\n",
      "\u001b[0;31mNameError\u001b[0m: name 'filename' is not defined"
     ]
    }
   ],
   "source": [
    "from netCDF4 import Dataset\n",
    "import numpy\n",
    "\n",
    "#file opening\n",
    "with Dataset(filename,'r') as root:\n",
    "    T2=np.array(root['T2'][:])\n",
    "    T2-=273.15"
   ]
  },
  {
   "cell_type": "markdown",
   "metadata": {
    "slideshow": {
     "slide_type": "slide"
    }
   },
   "source": [
    "## Procesamiento de salidas WRF\n",
    "* NCL\n",
    "https://www.ncl.ucar.edu/Document/Functions/wrf.shtml\n",
    "<br><img src=img/ncl-wrf.png width=\"95%\" align=\"center\" ><br>"
   ]
  },
  {
   "cell_type": "markdown",
   "metadata": {
    "slideshow": {
     "slide_type": "slide"
    }
   },
   "source": [
    "## Procesamiento de salidas WRF\n",
    "* Python\n",
    "<br><img src=img/wrf-python.png width=\"95%\" align=\"center\" ><br>"
   ]
  },
  {
   "cell_type": "markdown",
   "metadata": {
    "slideshow": {
     "slide_type": "slide"
    }
   },
   "source": [
    "## Procesamiento de salidas WRF\n",
    "* Python (programando las funciones necesarias)\n",
    "<br><img src=img/wrf-python-github.png width=\"95%\" align=\"center\" ><br>"
   ]
  },
  {
   "cell_type": "markdown",
   "metadata": {
    "slideshow": {
     "slide_type": "slide"
    }
   },
   "source": [
    "## Procesamiento de salidas WRF\n",
    "* Python\n",
    "<br><img src=img/rh-fortran.png width=\"95%\" align=\"center\" ><br>"
   ]
  },
  {
   "cell_type": "markdown",
   "metadata": {
    "slideshow": {
     "slide_type": "subslide"
    }
   },
   "source": [
    "## Procesamiento de salidas WRF\n",
    "* Python\n",
    "<br><img src=img/rh-fortran2.png width=\"95%\" align=\"center\" ><br>"
   ]
  },
  {
   "cell_type": "markdown",
   "metadata": {
    "slideshow": {
     "slide_type": "slide"
    }
   },
   "source": [
    "## Cálculo de RH\n",
    "<br><img src=img/rh-compara.png width=\"95%\" align=\"center\" ><br>"
   ]
  },
  {
   "cell_type": "markdown",
   "metadata": {
    "slideshow": {
     "slide_type": "slide"
    }
   },
   "source": [
    "## Cálculo de RH\n",
    "<br><img src=img/rh-test.png width=\"95%\" align=\"center\" ><br>"
   ]
  },
  {
   "cell_type": "markdown",
   "metadata": {
    "slideshow": {
     "slide_type": "subslide"
    }
   },
   "source": [
    "## Cálculo de RH\n",
    "<br><img src=img/rh-test2.png width=\"95%\" align=\"center\" ><br>"
   ]
  },
  {
   "cell_type": "markdown",
   "metadata": {
    "slideshow": {
     "slide_type": "slide"
    }
   },
   "source": [
    "## Graficación con pyplot y cartopy"
   ]
  },
  {
   "cell_type": "markdown",
   "metadata": {
    "slideshow": {
     "slide_type": "fragment"
    }
   },
   "source": [
    "### Matplolib\n",
    "\n",
    "<br><img src=img/mplotlib.png width=\"95%\" align=\"center\" ><br>"
   ]
  },
  {
   "cell_type": "markdown",
   "metadata": {
    "slideshow": {
     "slide_type": "fragment"
    }
   },
   "source": [
    "### Pyplot\n",
    "\n",
    "<br><img src=img/pyplot.png width=\"95%\" align=\"center\" ><br>"
   ]
  },
  {
   "cell_type": "markdown",
   "metadata": {
    "slideshow": {
     "slide_type": "fragment"
    }
   },
   "source": [
    "### Cartopy\n",
    "* Procesamiento de datos geo-espaciales\n",
    "* Produce mapas\n",
    "* maneja proyecciones\n",
    "<br><img src=img/cartopy.png width=\"95%\" align=\"center\" ><br>"
   ]
  },
  {
   "cell_type": "markdown",
   "metadata": {
    "slideshow": {
     "slide_type": "slide"
    }
   },
   "source": [
    "## Graficación usando pyplot y cartopy"
   ]
  },
  {
   "cell_type": "markdown",
   "metadata": {
    "slideshow": {
     "slide_type": "slide"
    }
   },
   "source": [
    "## Graficación de mallas no estructuradas"
   ]
  },
  {
   "cell_type": "markdown",
   "metadata": {
    "slideshow": {
     "slide_type": "slide"
    }
   },
   "source": [
    "## Generación de contenido web"
   ]
  },
  {
   "cell_type": "code",
   "execution_count": null,
   "metadata": {},
   "outputs": [],
   "source": []
  }
 ],
 "metadata": {
  "celltoolbar": "Slideshow",
  "kernelspec": {
   "display_name": "Python 3",
   "language": "python",
   "name": "python3"
  },
  "language_info": {
   "codemirror_mode": {
    "name": "ipython",
    "version": 3
   },
   "file_extension": ".py",
   "mimetype": "text/x-python",
   "name": "python",
   "nbconvert_exporter": "python",
   "pygments_lexer": "ipython3",
   "version": "3.7.1"
  }
 },
 "nbformat": 4,
 "nbformat_minor": 2
}
