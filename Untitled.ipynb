{
 "cells": [
  {
   "cell_type": "markdown",
   "metadata": {
    "slideshow": {
     "slide_type": "slide"
    }
   },
   "source": [
    "<img src=img/python-logo.png width=\"30%\" align=\"left\" >\n",
    "<img src=logo_atmosfera.png width=\"30%\" align=\"right\" >\n",
    "<br>\n",
    "<br>\n",
    "<br>\n",
    "<h1>\n",
    "    <center>\n",
    "    <s>Graficación</s> Post-procesamiento de salidas WRF con Python\n",
    "    </center>\n",
    "</h1>\n",
    "<br>\n",
    "<br>\n",
    "<p>\n",
    "    <strong>Miguel Ángel Robles Roldán </strong><br>\n",
    "    Técnico Académico, Grupo Interacción Océano-Atmósfera, Centro de Ciencias de la Atmósfera <br>\n",
    "    <a href=\"mailto:miguel.robles@atmosfera.unam.mx\"> miguel.robles@atmosfera.unam.mx</a><br>\n",
    "    <a href=\"https://github.com/ma-robles\"> github:https://github.com/ma-robles</a><br>\n",
    "</p>\n",
    "    "
   ]
  },
  {
   "cell_type": "markdown",
   "metadata": {
    "slideshow": {
     "slide_type": "slide"
    }
   },
   "source": [
    "<img src=img/wrf_logo.jpg width=\"15%\" align=\"right\" ><br>\n",
    "\n",
    "## WRF (Weather Research and Forecasting)\n",
    "\n"
   ]
  },
  {
   "cell_type": "markdown",
   "metadata": {
    "slideshow": {
     "slide_type": "fragment"
    }
   },
   "source": [
    "> WRF es un modelo de predicción numérica del tiempo diseñado para la investigación y para aplicaciones operativas ...\n",
    "<br>\n",
    "http://grupo-ioa.atmosfera.unam.mx/pronosticos/index.php/meteorologia/inf-wrf\n",
    "\n",
    "- Contribuyen diversas instituciones a su desarrollo (NCAR, NOAA, NCEP, ...)\n",
    "- Soporta cómputo en paralelo.\n",
    "- Permite diversas escalas.\n",
    "- ...\n",
    "- *Como salida del modelo se generan archivos de tipo NetCDF*"
   ]
  },
  {
   "cell_type": "markdown",
   "metadata": {
    "slideshow": {
     "slide_type": "slide"
    }
   },
   "source": [
    "<img src=img/netcdf_logo.png width=\"15%\" align=\"right\" ><br>\n",
    "\n",
    "<img src=img/xarray.png width=\"15%\" align=\"right\" ><br>\n",
    "\n",
    "## NetCDF (Network Common Data Form)\n",
    "\n"
   ]
  },
  {
   "cell_type": "markdown",
   "metadata": {
    "slideshow": {
     "slide_type": "fragment"
    }
   },
   "source": [
    "*Es un conjunto de bibliotecas (en varios lenguajes) y formatos multiplataforma y autodescriptivos para crear, acceder y compartir datos de tipo arreglo.*\n",
    "\n",
    "### Formatos NetCDF\n",
    "* CDF-1 (Formato clásico) - Primer formato, por defecto en todas las bibliotecas.\n",
    "* CDF-2 (netCDF 64-bit offset) - permite archivos mayores a 2GB\n",
    "* netCDF-4 (HDF5 con restricciones) Es un formato de alto desempeño\n",
    "* CDF-5 (NetCDF 64-bit)- Permite variables más grandes.\n",
    "\n",
    "Se pueden extraer datos con la biblioteca netCDF4"
   ]
  },
  {
   "cell_type": "markdown",
   "metadata": {
    "slideshow": {
     "slide_type": "slide"
    }
   },
   "source": [
    "## Archivos de salida de WRF\n",
    "* Tienen diferencias con los netCDF convencionales https://www.ncl.ucar.edu/Applications/wrfnetcdf.shtml\n",
    "\n",
    "* Las variables posibles se encuentran en: http://www2.mmm.ucar.edu/wrf/users/docs/user_guide_V3/users_guide_chap5.htm#fields\n",
    "\n",
    "* Algunos ejemplos:\n",
    "\n",
    "> float Q2(Time, south_north, west_east) <br>\n",
    ">        Q2:description = \"QV at 2 M\" <br>\n",
    ">        Q2:units = \"kg kg-1\" <br>\n"
   ]
  },
  {
   "cell_type": "markdown",
   "metadata": {
    "slideshow": {
     "slide_type": "subslide"
    }
   },
   "source": [
    "\n",
    "> float T2(Time, south_north, west_east) <br>\n",
    ">        T2:description = \"TEMP at 2 M\" <br>\n",
    ">        T2:units = \"K\" <br>\n",
    "\n",
    "> float TH2(Time, south_north, west_east) <br>\n",
    ">        TH2:description = \"POT TEMP at 2 M\" <br>\n",
    ">        TH2:units = \"K\" <br>\n",
    "\n",
    "> float PSFC(Time, south_north, west_east) <br>\n",
    ">        PSFC:description = \"SFC PRESSURE\" <br>\n",
    ">        PSFC:units = \"Pa\" <br>\n",
    "\n",
    "> float U10(Time, south_north, west_east) <br>\n",
    ">        U10:description = \"U at 10 M\" <br>\n",
    ">        U10:units = \"m s-1\" <br>\n",
    "\n",
    "> float V10(Time, south_north, west_east) <br>\n",
    ">        V10:description = \"V at 10 M\" <br>\n",
    ">        V10:units = \"m s-1\" <br>"
   ]
  },
  {
   "cell_type": "markdown",
   "metadata": {
    "slideshow": {
     "slide_type": "slide"
    }
   },
   "source": [
    "## Post-procesamiento\n",
    "\n",
    "*Cálculo/manipulación posterior al realizado por el modelo (WRF)*\n",
    "\n",
    "* Máximos/mínimos\n",
    "* Acumulados/promedios\n",
    "* Recortes\n",
    "* Graficación"
   ]
  },
  {
   "cell_type": "markdown",
   "metadata": {
    "slideshow": {
     "slide_type": "slide"
    }
   },
   "source": [
    "## ¿Para qué post-procesar?\n",
    "\n",
    "* ???"
   ]
  },
  {
   "cell_type": "markdown",
   "metadata": {
    "slideshow": {
     "slide_type": "fragment"
    }
   },
   "source": [
    "* Verificación y análisis.\n",
    "* Divulgación.\n",
    "* Presentación de datos en informes, artículos, tesis..."
   ]
  },
  {
   "cell_type": "markdown",
   "metadata": {
    "slideshow": {
     "slide_type": "slide"
    }
   },
   "source": [
    "## Herramientas de post-procesamiento para salidas del WRF\n",
    "\n",
    "* Paquetes y bibliotecas diseñados para leer archivos NetCDF"
   ]
  },
  {
   "cell_type": "markdown",
   "metadata": {
    "slideshow": {
     "slide_type": "fragment"
    }
   },
   "source": [
    "\n",
    "<br><img src=img/wrf_ioa_scr.png width=\"95%\" align=\"center\" ><br>\n",
    "\n",
    "http://grupo-ioa.atmosfera.unam.mx/pronosticos/index.php/meteorologia/inf-wrf"
   ]
  },
  {
   "cell_type": "markdown",
   "metadata": {
    "slideshow": {
     "slide_type": "subslide"
    }
   },
   "source": [
    "### Matlab\n",
    "* IDE para trabajo con arreglos\n",
    "\n",
    "<br><img src=img/matlab.png width=\"95%\" align=\"center\" ><br>\n"
   ]
  },
  {
   "cell_type": "markdown",
   "metadata": {
    "slideshow": {
     "slide_type": "subslide"
    }
   },
   "source": [
    "### NCL\n",
    "\n",
    "<br><img src=img/ncl.png width=\"95%\" align=\"center\" ><br>\n"
   ]
  },
  {
   "cell_type": "markdown",
   "metadata": {
    "slideshow": {
     "slide_type": "subslide"
    }
   },
   "source": [
    "### Python :)!\n",
    "* Lenguaje de programación\n",
    "  - interpretado\n",
    "  - multiplataforma\n",
    "  - existen muchas bibliotecas\n",
    "  - gratis!\n",
    "  \n",
    "<br><img src=img/python.png width=\"95%\" align=\"center\" ><br>\n"
   ]
  },
  {
   "cell_type": "markdown",
   "metadata": {
    "slideshow": {
     "slide_type": "slide"
    }
   },
   "source": [
    "## Bibliotecas útiles en el post-procesamiento (Python)\n",
    "\n",
    "\n",
    "* numpy\n",
    "* matplotlib\n",
    "* cartopy\n",
    "* datetime\n",
    "* scipy\n",
    "<img src=img/pip.png width=\"40%\" align=\"right\" >\n",
    "<br><br><br><br><br><br>\n",
    "<img src=img/conda.png width=\"40%\" align=\"right\" >\n",
    "\n",
    "\n",
    "### Administradores de paquetes\n",
    "* pip - más limitado, más sencillo\n",
    "* conda - más completo, puede ser problemático"
   ]
  },
  {
   "cell_type": "markdown",
   "metadata": {
    "slideshow": {
     "slide_type": "subslide"
    }
   },
   "source": [
    "## Instalación\n",
    "\n",
    "* numpy:  conda install -c anaconda numpy \n",
    "* netCDF4: conda install -c anaconda netcdf4 \n",
    "* cartopy: conda install -c conda-forge cartopy \n",
    "* matplotlib: conda install -c conda-forge matplotlib \n",
    "* scipy:  conda install -c anaconda scipy "
   ]
  },
  {
   "cell_type": "markdown",
   "metadata": {
    "slideshow": {
     "slide_type": "slide"
    }
   },
   "source": [
    "\n",
    "\n",
    "# Post-procesamiento de salidas WRF\n",
    "\n",
    "### I. Lectura de archivos y procesamiento de datos\n",
    "### II. Graficación\n",
    "* Graficación usando pyplot y cartopy\n",
    "* Otras posibilidades:\n",
    "  - Graficación de mallas no estructuradas\n",
    "  - Generación de contenido web"
   ]
  },
  {
   "cell_type": "markdown",
   "metadata": {
    "slideshow": {
     "slide_type": "slide"
    }
   },
   "source": [
    "## I. Lectura de archivos NetCDF y procesamiento de datos en python"
   ]
  },
  {
   "cell_type": "markdown",
   "metadata": {
    "slideshow": {
     "slide_type": "subslide"
    }
   },
   "source": [
    "### Lectura de datos (NetCDF genérico)"
   ]
  },
  {
   "cell_type": "code",
   "execution_count": 8,
   "metadata": {
    "slideshow": {
     "slide_type": "fragment"
    }
   },
   "outputs": [
    {
     "name": "stdout",
     "output_type": "stream",
     "text": [
      "[[25.95143   25.950289  25.9487    ... 27.575968  27.526814  27.476727 ]\n",
      " [25.95092   25.96205   25.959808  ... 27.503893  27.531649  27.4776   ]\n",
      " [25.949978  25.961044  25.95581   ... 27.439697  27.481775  27.447577 ]\n",
      " ...\n",
      " [14.1377945 14.10822   14.0870075 ... 14.781396  14.84724   15.059344 ]\n",
      " [14.100042  14.071801  14.053479  ... 14.74602   14.783372  14.972626 ]\n",
      " [14.064387  14.044859  14.026752  ... 14.829721  14.858014  14.884087 ]]\n"
     ]
    }
   ],
   "source": [
    "from netCDF4 import Dataset\n",
    "import numpy as np\n",
    "\n",
    "filename='prom_v4.nc'\n",
    "#file opening\n",
    "with Dataset(filename,'r') as root:\n",
    "    T2=np.array(root['T2_avg_per_m'][:])\n",
    "print(T2[0])"
   ]
  },
  {
   "cell_type": "markdown",
   "metadata": {
    "slideshow": {
     "slide_type": "subslide"
    }
   },
   "source": [
    "### Lectura de datos y procesamiento"
   ]
  },
  {
   "cell_type": "code",
   "execution_count": 9,
   "metadata": {
    "slideshow": {
     "slide_type": "fragment"
    }
   },
   "outputs": [
    {
     "name": "stdout",
     "output_type": "stream",
     "text": [
      "[[299.1014  299.10028 299.0987  ... 300.72595 300.67682 300.6267 ]\n",
      " [299.10092 299.11203 299.1098  ... 300.6539  300.68164 300.6276 ]\n",
      " [299.09998 299.11102 299.1058  ... 300.5897  300.63177 300.59756]\n",
      " ...\n",
      " [287.28778 287.2582  287.237   ... 287.9314  287.99722 288.20935]\n",
      " [287.25003 287.2218  287.20346 ... 287.89603 287.93338 288.12262]\n",
      " [287.2144  287.19485 287.17676 ... 287.9797  288.008   288.0341 ]]\n"
     ]
    }
   ],
   "source": [
    "from netCDF4 import Dataset\n",
    "import numpy as np\n",
    "\n",
    "filename='prom_v4.nc'\n",
    "#file opening\n",
    "with Dataset(filename,'r') as root:\n",
    "    T2=np.array(root['T2_avg_per_m'][:])\n",
    "    T2+=273.15\n",
    "print(T2[0])"
   ]
  },
  {
   "cell_type": "markdown",
   "metadata": {
    "slideshow": {
     "slide_type": "slide"
    }
   },
   "source": [
    "## Procesamiento de salidas WRF\n",
    "* NCL\n",
    "https://www.ncl.ucar.edu/Document/Functions/wrf.shtml\n",
    "<br><img src=img/ncl-wrf.png width=\"95%\" align=\"center\" ><br>"
   ]
  },
  {
   "cell_type": "markdown",
   "metadata": {
    "slideshow": {
     "slide_type": "slide"
    }
   },
   "source": [
    "## Procesamiento de salidas WRF\n",
    "* Python\n",
    "<br><img src=img/wrf-python.png width=\"95%\" align=\"center\" ><br>"
   ]
  },
  {
   "cell_type": "markdown",
   "metadata": {
    "slideshow": {
     "slide_type": "slide"
    }
   },
   "source": [
    "## Procesamiento de salidas WRF\n",
    "* Python (programando las funciones necesarias)\n"
   ]
  },
  {
   "cell_type": "markdown",
   "metadata": {
    "slideshow": {
     "slide_type": "fragment"
    }
   },
   "source": [
    "<br><img src=img/wrf-python-github.png width=\"95%\" align=\"center\" ><br>"
   ]
  },
  {
   "cell_type": "markdown",
   "metadata": {
    "slideshow": {
     "slide_type": "slide"
    }
   },
   "source": [
    "## Procesamiento de salidas WRF\n",
    "* Python\n",
    "<br><img src=img/rh-fortran.png width=\"95%\" align=\"center\" ><br>"
   ]
  },
  {
   "cell_type": "markdown",
   "metadata": {
    "slideshow": {
     "slide_type": "subslide"
    }
   },
   "source": [
    "## Procesamiento de salidas WRF\n",
    "* Python\n",
    "<br><img src=img/rh-fortran2.png width=\"95%\" align=\"center\" ><br>"
   ]
  },
  {
   "cell_type": "markdown",
   "metadata": {
    "slideshow": {
     "slide_type": "slide"
    }
   },
   "source": [
    "## Cálculo de RH (comparación de tiempos)\n",
    "<br><img src=img/rh-compara.png width=\"95%\" align=\"center\" ><br>"
   ]
  },
  {
   "cell_type": "markdown",
   "metadata": {
    "slideshow": {
     "slide_type": "slide"
    }
   },
   "source": [
    "## Cálculo de RH\n",
    "<br><img src=img/rh-test.png width=\"95%\" align=\"center\" ><br>"
   ]
  },
  {
   "cell_type": "markdown",
   "metadata": {
    "slideshow": {
     "slide_type": "subslide"
    }
   },
   "source": [
    "## Cálculo de RH\n",
    "<br><img src=img/rh-test2.png width=\"95%\" align=\"center\" ><br>"
   ]
  },
  {
   "cell_type": "markdown",
   "metadata": {
    "slideshow": {
     "slide_type": "slide"
    }
   },
   "source": [
    "## Graficación con pyplot  y cartopy (matplotlib)"
   ]
  },
  {
   "cell_type": "markdown",
   "metadata": {
    "slideshow": {
     "slide_type": "fragment"
    }
   },
   "source": [
    "### Matplolib\n",
    "* Biblioteca de graficación\n",
    "\n",
    "<br><img src=img/mplotlib.png width=\"95%\" align=\"center\" ><br>"
   ]
  },
  {
   "cell_type": "markdown",
   "metadata": {
    "slideshow": {
     "slide_type": "fragment"
    }
   },
   "source": [
    "### Pyplot\n",
    "* Imita funciones en matlab\n",
    "\n",
    "<br><img src=img/pyplot.png width=\"95%\" align=\"center\" ><br>"
   ]
  },
  {
   "cell_type": "markdown",
   "metadata": {
    "slideshow": {
     "slide_type": "fragment"
    }
   },
   "source": [
    "### Cartopy\n",
    "* Procesamiento de datos geo-espaciales\n",
    "* Produce mapas\n",
    "* maneja proyecciones\n",
    "<br><img src=img/cartopy.png width=\"95%\" align=\"center\" ><br>"
   ]
  },
  {
   "cell_type": "markdown",
   "metadata": {
    "slideshow": {
     "slide_type": "slide"
    }
   },
   "source": [
    "## Graficación usando cartopy (features)\n",
    "* Se pueden usar archivos tipo shape\n",
    "* Se pueden agregar automáticamente de (descarga, descompresión, carga):\n",
    "  - https://www.naturalearthdata.com/features/\n",
    "  - https://www.ngdc.noaa.gov/mgg/shorelines/gshhs.html\n",
    "  <br><img src=img/natural_earth.png width=\"95%\" align=\"center\" ><br>"
   ]
  },
  {
   "cell_type": "markdown",
   "metadata": {
    "slideshow": {
     "slide_type": "slide"
    }
   },
   "source": [
    "<br><img src=img/plot_ex1.png width=\"95%\" align=\"center\" ><br>"
   ]
  },
  {
   "cell_type": "markdown",
   "metadata": {
    "slideshow": {
     "slide_type": "subslide"
    }
   },
   "source": [
    "  <br><img src=img/Q2_avg_per_m10.png width=\"95%\" align=\"center\" ><br>"
   ]
  },
  {
   "cell_type": "markdown",
   "metadata": {
    "slideshow": {
     "slide_type": "slide"
    }
   },
   "source": [
    "## Graficación de vectores\n",
    "\n",
    "### Barbas\n",
    "\n",
    "<img src=img/cartopy_barbs_001.png width=\"95%\" align=\"center\" ><br>"
   ]
  },
  {
   "cell_type": "markdown",
   "metadata": {},
   "source": [
    "## Graficación de vectores en mallas no estructuradas\n",
    "\n",
    "### Streamplot\n",
    "\n",
    "<br><img src=img/cartopy_streamplot_001.png width=\"95%\" align=\"center\" ><br>"
   ]
  },
  {
   "cell_type": "markdown",
   "metadata": {
    "slideshow": {
     "slide_type": "slide"
    }
   },
   "source": [
    "## Graficación de vectores en mallas no estructuradas\n",
    "* remallado\n",
    "<br><img src=img/regridding_arrows_0.png width=\"95%\" align=\"center\" ><br>"
   ]
  },
  {
   "cell_type": "markdown",
   "metadata": {
    "slideshow": {
     "slide_type": "subslide"
    }
   },
   "source": [
    "<br><img src=img/quiver.png width=\"95%\" align=\"center\" ><br>"
   ]
  },
  {
   "cell_type": "markdown",
   "metadata": {
    "slideshow": {
     "slide_type": "slide"
    }
   },
   "source": [
    "## Graficación ejemplo:\n",
    "* Imagen bitmap (png)\n",
    "* Malla no estructurada\n",
    "* Información de archivos .mat\n",
    "* Texto, dibujos (rectángulo)\n",
    "<br><img src=img/eleva_087.png width=\"95%\" align=\"center\" ><br>"
   ]
  },
  {
   "cell_type": "markdown",
   "metadata": {
    "slideshow": {
     "slide_type": "slide"
    }
   },
   "source": [
    "## Generación de contenido web\n",
    "\n",
    "* Folium permite visualizar datos con leaflet\n",
    "\n",
    "<br><img src=img/folium.png width=\"95%\" align=\"center\" ><br>\n"
   ]
  },
  {
   "cell_type": "markdown",
   "metadata": {
    "slideshow": {
     "slide_type": "slide"
    }
   },
   "source": [
    "## Leaflet\n",
    "\n",
    "<br><img src=img/leaflet.png width=\"95%\" align=\"center\" ><br>"
   ]
  },
  {
   "cell_type": "markdown",
   "metadata": {
    "slideshow": {
     "slide_type": "slide"
    }
   },
   "source": [
    "## leaflet\n",
    "* permite plugins (existem muchos)\n",
    "<br><img src=img/leaflet_ani.png width=\"95%\" align=\"center\" ><br>\n",
    "\n",
    "https://mappinggis.com/2017/10/10-cosas-quiza-no-sabias-leaflet/"
   ]
  },
  {
   "cell_type": "markdown",
   "metadata": {
    "slideshow": {
     "slide_type": "slide"
    }
   },
   "source": [
    "## Conclusiones ???"
   ]
  },
  {
   "cell_type": "markdown",
   "metadata": {
    "slideshow": {
     "slide_type": "slide"
    }
   },
   "source": [
    "# ¡¡¡Gracias!!!"
   ]
  }
 ],
 "metadata": {
  "celltoolbar": "Slideshow",
  "kernelspec": {
   "display_name": "Python 3",
   "language": "python",
   "name": "python3"
  },
  "language_info": {
   "codemirror_mode": {
    "name": "ipython",
    "version": 3
   },
   "file_extension": ".py",
   "mimetype": "text/x-python",
   "name": "python",
   "nbconvert_exporter": "python",
   "pygments_lexer": "ipython3",
   "version": "3.7.3"
  }
 },
 "nbformat": 4,
 "nbformat_minor": 2
}
