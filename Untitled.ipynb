{
 "cells": [
  {
   "cell_type": "markdown",
   "metadata": {
    "slideshow": {
     "slide_type": "slide"
    }
   },
   "source": [
    "<img src=logo_atmosfera.png width=\"20%\" align=\"right\" >\n",
    "<br>\n",
    "<br>\n",
    "<br>\n",
    "<h1>\n",
    "    <center>\n",
    "    Graficación de salidas WRF con Python\n",
    "    </center>\n",
    "</h1>\n",
    "<br>\n",
    "<br>\n",
    "<p>\n",
    "    <strong>Miguel Ángel Robles Roldán </strong><br>\n",
    "    Técnico Académico, Centro de Ciencias de la Atmósfera <br>\n",
    "    <a href=\"mailto:miguel.robles@atmosfera.unam.mx\"> miguel.robles@atmosfera.unam.mx</a><br>\n",
    "    <a href=\"https://github.com/ma-robles\"> github:https://github.com/ma-robles</a><br>\n",
    "</p>\n",
    "    "
   ]
  },
  {
   "cell_type": "markdown",
   "metadata": {
    "slideshow": {
     "slide_type": "slide"
    }
   },
   "source": [
    "## Graficación de salidas WRF\n",
    "\n",
    "### Extracción de datos \n",
    "* Archivos de salida (netCDF)\n",
    "* Post-procesamiento\n",
    "\n",
    "### Graficación\n",
    "* Graficación usando pyplot y cartopy\n",
    "* Otras posibilidades:\n",
    "  - Graficación de mallas no estructuradas\n",
    "  - Generación de contenido web"
   ]
  },
  {
   "cell_type": "markdown",
   "metadata": {
    "slideshow": {
     "slide_type": "slide"
    }
   },
   "source": [
    "## Extracción de datos"
   ]
  },
  {
   "cell_type": "markdown",
   "metadata": {
    "slideshow": {
     "slide_type": "slide"
    }
   },
   "source": [
    "## NetCDF (Network Common Data Form)\n",
    "\n",
    "*Es un conjunto de bibliotecas (en varios lenguajes) y formatos multiplataforma y autodescriptivos para crear, acceder y compartir datos de tipo arreglo.*\n",
    "\n",
    "### Formatos NetCDF\n",
    "* CDF-1 (Formato clásico) - Primer formato, por defecto en todas las bibliotecas.\n",
    "* CDF-2 (netCDF 64-bit offset) - permite archivos mayores a 2GB\n",
    "* netCDF-4 (HDF5 con restricciones) Es un formato de alto desempeño\n",
    "* CDF-5 (NetCDF 64-bit)- Permite variables más grandes.\n",
    "\n",
    "Se pueden extraer datos con la biblioteca netCDF4"
   ]
  },
  {
   "cell_type": "markdown",
   "metadata": {
    "slideshow": {
     "slide_type": "slide"
    }
   },
   "source": [
    "## Archivos de salida de WRF\n",
    "* Tienen diferencias con los netCDF convencionales https://www.ncl.ucar.edu/Applications/wrfnetcdf.shtml\n",
    "\n",
    "* Las variables posibles se encuentran en: http://www2.mmm.ucar.edu/wrf/users/docs/user_guide_V3/users_guide_chap5.htm#fields\n",
    "\n",
    "* Algunos ejemplos:\n",
    "\n",
    "float Q2(Time, south_north, west_east) ;\n",
    "\n",
    "        Q2:description = \"QV at 2 M\" ;\n",
    "        Q2:units = \"kg kg-1\" ;\n",
    "float T2(Time, south_north, west_east) ;\n",
    "\n",
    "        T2:description = \"TEMP at 2 M\" ;\n",
    "        T2:units = \"K\" ;\n",
    "float TH2(Time, south_north, west_east) ;\n",
    "\n",
    "        TH2:description = \"POT TEMP at 2 M\" ;\n",
    "        TH2:units = \"K\" ;\n",
    "float PSFC(Time, south_north, west_east) ;\n",
    "\n",
    "        PSFC:description = \"SFC PRESSURE\" ;\n",
    "        PSFC:units = \"Pa\" ;\n",
    "float U10(Time, south_north, west_east) ;\n",
    "\n",
    "        U10:description = \"U at 10 M\" ;\n",
    "        U10:units = \"m s-1\" ;\n",
    "float V10(Time, south_north, west_east) ;\n",
    "\n",
    "        V10:description = \"V at 10 M\" ;\n",
    "        V10:units = \"m s-1\" ;"
   ]
  },
  {
   "cell_type": "markdown",
   "metadata": {},
   "source": [
    "## Post-procesamiento\n"
   ]
  },
  {
   "cell_type": "markdown",
   "metadata": {},
   "source": [
    "## Graficación usando pyplot y cartopy"
   ]
  },
  {
   "cell_type": "markdown",
   "metadata": {},
   "source": [
    "## Graficación de mallas no estructuradas"
   ]
  },
  {
   "cell_type": "markdown",
   "metadata": {},
   "source": [
    "## Generación de contenido web"
   ]
  },
  {
   "cell_type": "code",
   "execution_count": 1,
   "metadata": {
    "slideshow": {
     "slide_type": "slide"
    }
   },
   "outputs": [
    {
     "ename": "ModuleNotFoundError",
     "evalue": "No module named 'netCDF4'",
     "output_type": "error",
     "traceback": [
      "\u001b[0;31m---------------------------------------------------------------------------\u001b[0m",
      "\u001b[0;31mModuleNotFoundError\u001b[0m                       Traceback (most recent call last)",
      "\u001b[0;32m<ipython-input-1-9588a3d4fb24>\u001b[0m in \u001b[0;36m<module>\u001b[0;34m\u001b[0m\n\u001b[0;32m----> 1\u001b[0;31m \u001b[0;32mimport\u001b[0m \u001b[0mnetCDF4\u001b[0m\u001b[0;34m\u001b[0m\u001b[0;34m\u001b[0m\u001b[0m\n\u001b[0m",
      "\u001b[0;31mModuleNotFoundError\u001b[0m: No module named 'netCDF4'"
     ]
    }
   ],
   "source": [
    "import netCDF4"
   ]
  },
  {
   "cell_type": "code",
   "execution_count": null,
   "metadata": {
    "slideshow": {
     "slide_type": "slide"
    }
   },
   "outputs": [],
   "source": []
  }
 ],
 "metadata": {
  "celltoolbar": "Slideshow",
  "kernelspec": {
   "display_name": "Python 3",
   "language": "python",
   "name": "python3"
  },
  "language_info": {
   "codemirror_mode": {
    "name": "ipython",
    "version": 3
   },
   "file_extension": ".py",
   "mimetype": "text/x-python",
   "name": "python",
   "nbconvert_exporter": "python",
   "pygments_lexer": "ipython3",
   "version": "3.7.3"
  }
 },
 "nbformat": 4,
 "nbformat_minor": 2
}
